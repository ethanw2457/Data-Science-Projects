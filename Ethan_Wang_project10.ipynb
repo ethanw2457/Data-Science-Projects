{
 "cells": [
  {
   "cell_type": "markdown",
   "id": "be02a957-7133-4d02-818e-fedeb3cecb05",
   "metadata": {},
   "source": [
    "# Project 12 -- [Ethan] [Wang]"
   ]
  },
  {
   "cell_type": "markdown",
   "id": "a1228853-dd19-4ab2-89e0-0394d7d72de3",
   "metadata": {},
   "source": [
    "**TA Help:** NA\n",
    "\n",
    "- NA\n",
    "    \n",
    "**Collaboration:** NA\n",
    "    \n",
    "- NA"
   ]
  },
  {
   "cell_type": "markdown",
   "id": "6180e742-8e39-4698-98ff-5b00c8cf8ea0",
   "metadata": {},
   "source": [
    "## Question 1"
   ]
  },
  {
   "cell_type": "code",
   "execution_count": 1,
   "id": "49445606-d363-41b4-b479-e319a9a84c01",
   "metadata": {},
   "outputs": [
    {
     "data": {
      "text/html": [
       "<style>\n",
       ".list-inline {list-style: none; margin:0; padding: 0}\n",
       ".list-inline>li {display: inline-block}\n",
       ".list-inline>li:not(:last-child)::after {content: \"\\00b7\"; padding: 0 .5ex}\n",
       "</style>\n",
       "<ol class=list-inline><li>'Invoice/Item Number'</li><li>'Date'</li><li>'Store Number'</li><li>'Store Name'</li><li>'Address'</li><li>'City'</li><li>'Zip Code'</li><li>'Store Location'</li><li>'County Number'</li><li>'County'</li><li>'Category'</li><li>'Category Name'</li><li>'Vendor Number'</li><li>'Vendor Name'</li><li>'Item Number'</li><li>'Item Description'</li><li>'Pack'</li><li>'Bottle Volume (ml)'</li><li>'State Bottle Cost'</li><li>'State Bottle Retail'</li><li>'Bottles Sold'</li><li>'Sale (Dollars)'</li><li>'Volume Sold (Liters)'</li><li>'Volume Sold (Gallons)'</li></ol>\n"
      ],
      "text/latex": [
       "\\begin{enumerate*}\n",
       "\\item 'Invoice/Item Number'\n",
       "\\item 'Date'\n",
       "\\item 'Store Number'\n",
       "\\item 'Store Name'\n",
       "\\item 'Address'\n",
       "\\item 'City'\n",
       "\\item 'Zip Code'\n",
       "\\item 'Store Location'\n",
       "\\item 'County Number'\n",
       "\\item 'County'\n",
       "\\item 'Category'\n",
       "\\item 'Category Name'\n",
       "\\item 'Vendor Number'\n",
       "\\item 'Vendor Name'\n",
       "\\item 'Item Number'\n",
       "\\item 'Item Description'\n",
       "\\item 'Pack'\n",
       "\\item 'Bottle Volume (ml)'\n",
       "\\item 'State Bottle Cost'\n",
       "\\item 'State Bottle Retail'\n",
       "\\item 'Bottles Sold'\n",
       "\\item 'Sale (Dollars)'\n",
       "\\item 'Volume Sold (Liters)'\n",
       "\\item 'Volume Sold (Gallons)'\n",
       "\\end{enumerate*}\n"
      ],
      "text/markdown": [
       "1. 'Invoice/Item Number'\n",
       "2. 'Date'\n",
       "3. 'Store Number'\n",
       "4. 'Store Name'\n",
       "5. 'Address'\n",
       "6. 'City'\n",
       "7. 'Zip Code'\n",
       "8. 'Store Location'\n",
       "9. 'County Number'\n",
       "10. 'County'\n",
       "11. 'Category'\n",
       "12. 'Category Name'\n",
       "13. 'Vendor Number'\n",
       "14. 'Vendor Name'\n",
       "15. 'Item Number'\n",
       "16. 'Item Description'\n",
       "17. 'Pack'\n",
       "18. 'Bottle Volume (ml)'\n",
       "19. 'State Bottle Cost'\n",
       "20. 'State Bottle Retail'\n",
       "21. 'Bottles Sold'\n",
       "22. 'Sale (Dollars)'\n",
       "23. 'Volume Sold (Liters)'\n",
       "24. 'Volume Sold (Gallons)'\n",
       "\n",
       "\n"
      ],
      "text/plain": [
       " [1] \"Invoice/Item Number\"   \"Date\"                  \"Store Number\"         \n",
       " [4] \"Store Name\"            \"Address\"               \"City\"                 \n",
       " [7] \"Zip Code\"              \"Store Location\"        \"County Number\"        \n",
       "[10] \"County\"                \"Category\"              \"Category Name\"        \n",
       "[13] \"Vendor Number\"         \"Vendor Name\"           \"Item Number\"          \n",
       "[16] \"Item Description\"      \"Pack\"                  \"Bottle Volume (ml)\"   \n",
       "[19] \"State Bottle Cost\"     \"State Bottle Retail\"   \"Bottles Sold\"         \n",
       "[22] \"Sale (Dollars)\"        \"Volume Sold (Liters)\"  \"Volume Sold (Gallons)\""
      ]
     },
     "metadata": {},
     "output_type": "display_data"
    },
    {
     "data": {
      "text/html": [
       "<style>\n",
       ".list-inline {list-style: none; margin:0; padding: 0}\n",
       ".list-inline>li {display: inline-block}\n",
       ".list-inline>li:not(:last-child)::after {content: \"\\00b7\"; padding: 0 .5ex}\n",
       "</style>\n",
       "<ol class=list-inline><li>27050143</li><li>5</li></ol>\n"
      ],
      "text/latex": [
       "\\begin{enumerate*}\n",
       "\\item 27050143\n",
       "\\item 5\n",
       "\\end{enumerate*}\n"
      ],
      "text/markdown": [
       "1. 27050143\n",
       "2. 5\n",
       "\n",
       "\n"
      ],
      "text/plain": [
       "[1] 27050143        5"
      ]
     },
     "metadata": {},
     "output_type": "display_data"
    }
   ],
   "source": [
    "# This is the Starter Code\n",
    "library(data.table)\n",
    "options(repr.matrix.max.cols = 50)\n",
    "\n",
    "# Part a: Read first 1000 rows to inspect columns\n",
    "data_sample <- fread(\"/anvil/projects/tdm/data/iowa_liquor_sales/iowa_liquor_sales.csv\", nrows = 1000)\n",
    "colnames(data_sample)\n",
    "\n",
    "# Answer: Columns containing the requested information:\n",
    "# Store Number: \"Store Number\", Store Name: \"Store Name\",\n",
    "# Address: \"Address\", City: \"City\", Zip Code: \"Zip Code\"\n",
    "\n",
    "# Part b: Read the entire dataset with only the selected columns\n",
    "data_selected <- fread(\"/anvil/projects/tdm/data/iowa_liquor_sales/iowa_liquor_sales.csv\",\n",
    "                       select = c(\"Store Number\", \"Store Name\", \"Address\", \"City\", \"Zip Code\"))\n",
    "dim(data_selected)  # Get dimensions of the data"
   ]
  },
  {
   "cell_type": "markdown",
   "id": "b456e57c-4a12-464b-999a-ef2df5af80c1",
   "metadata": {},
   "source": [
    "Using the data.table package in R we were able to read the CSV file. We then use the fread function to read in the csv file."
   ]
  },
  {
   "cell_type": "markdown",
   "id": "fc601975-35ed-4680-a4e1-0273ee3cc047",
   "metadata": {},
   "source": [
    "## Question 2"
   ]
  },
  {
   "cell_type": "code",
   "execution_count": null,
   "id": "a16336a1-1ef0-41e8-bc7c-49387db27497",
   "metadata": {},
   "outputs": [],
   "source": [
    "# This is the Starter Code\n",
    "library(data.table)\n",
    "options(repr.matrix.max.cols = 50)\n",
    "\n",
    "# Read first 1000 rows to inspect columns\n",
    "data_sample <- fread(\"/anvil/projects/tdm/data/iowa_liquor_sales/iowa_liquor_sales.csv\", nrows = 1000)\n",
    "\n",
    "# Read the entire dataset with only the selected columns\n",
    "data_selected <- fread(\"/anvil/projects/tdm/data/iowa_liquor_sales/iowa_liquor_sales.csv\",\n",
    "                       select = c(\"Store Number\", \"Store Name\", \"Address\", \"City\", \"Zip Code\"))\n",
    "\n",
    "# Part a: 10 most popular Store Numbers\n",
    "store_number_table <- table(data_selected$`Store Number`)\n",
    "top_store_numbers <- sort(store_number_table, decreasing = TRUE)[1:10]\n",
    "\n",
    "# Part b: 10 most popular Store Names\n",
    "store_name_table <- table(data_selected$`Store Name`)\n",
    "top_store_names <- sort(store_name_table, decreasing = TRUE)[1:10]\n",
    "\n",
    "# Part c: 10 most popular combinations of Address, City, and Zip Code\n",
    "address_city_zip <- paste(data_selected$Address, data_selected$City, data_selected$`Zip Code`)\n",
    "address_city_zip_table <- table(address_city_zip)\n",
    "top_address_city_zip <- sort(address_city_zip_table, decreasing = TRUE)[1:10]\n",
    "\n",
    "# Print results\n",
    "top_store_numbers\n",
    "top_store_names\n",
    "top_address_city_zip\n"
   ]
  },
  {
   "cell_type": "markdown",
   "id": "14dc22d4-ddc3-41cc-a91a-cb0025bc0c80",
   "metadata": {},
   "source": [
    "Using the data.table package in R we were able to read the CSV file. We then use the fread function to read in the csv file."
   ]
  },
  {
   "cell_type": "markdown",
   "id": "8e586edd-ff26-4ce2-8f6b-2424b26f2929",
   "metadata": {},
   "source": [
    "## Question 3"
   ]
  },
  {
   "cell_type": "code",
   "execution_count": null,
   "id": "bbe0f40d-9655-4653-9ca8-886bdb61cb91",
   "metadata": {},
   "outputs": [],
   "source": [
    "# This is the Starter Code\n",
    "library(data.table)\n",
    "# Read only the required columns\n",
    "sales_data <- fread(\"/anvil/projects/tdm/data/iowa_liquor_sales/iowa_liquor_sales.csv\",\n",
    "                    select = c(\"Zip Code\", \"Category Name\", \"Sale (Dollars)\"))\n",
    "\n",
    "# Ensure \"Sale (Dollars)\" is numeric\n",
    "sales_data$`Sale (Dollars)` <- as.numeric(gsub(\"\\\\$\", \"\", sales_data$`Sale (Dollars)`))\n",
    "\n",
    "# Part a: Sum of sales by Zip Code\n",
    "zip_code_sales <- tapply(sales_data$`Sale (Dollars)`, sales_data$`Zip Code`, sum, na.rm = TRUE)\n",
    "top_zip_sales <- sort(zip_code_sales, decreasing = TRUE)[1:10]\n",
    "\n",
    "# Part b: Sum of sales by Category Name\n",
    "category_sales <- tapply(sales_data$`Sale (Dollars)`, sales_data$`Category Name`, sum, na.rm = TRUE)\n",
    "top_category_sales <- sort(category_sales, decreasing = TRUE)[1:10]\n",
    "\n",
    "# Print results\n",
    "top_zip_sales\n",
    "top_category_sales\n"
   ]
  },
  {
   "cell_type": "markdown",
   "id": "47c6229f-35f7-400c-8366-c442baa5cf47",
   "metadata": {},
   "source": [
    "Using the data.table package in R we were able to read the CSV file. We then use the fread function to read in the csv file."
   ]
  },
  {
   "cell_type": "markdown",
   "id": "da22f29c-d245-4d2b-9fc1-ca14cb6087d9",
   "metadata": {},
   "source": [
    "## Question 4"
   ]
  },
  {
   "cell_type": "code",
   "execution_count": null,
   "id": "8cffc767-d1c8-4d64-b7dc-f0d2ee8a80d1",
   "metadata": {},
   "outputs": [],
   "source": [
    "# This is the Starter Code\n",
    "library(data.table)\n",
    "# Read only the 10th and 15th fields from the file\n",
    "election_data <- fread(\"/anvil/projects/tdm/data/election/itcont2020.txt\", \n",
    "                       select = c(10, 15), col.names = c(\"State\", \"Donation Amount\"))\n",
    "\n",
    "# Ensure \"Donation Amount\" is numeric\n",
    "election_data$`Donation Amount` <- as.numeric(election_data$`Donation Amount`)\n",
    "\n",
    "# Sum donations by state\n",
    "state_donations <- tapply(election_data$`Donation Amount`, election_data$State, sum, na.rm = TRUE)\n",
    "top_state_donations <- sort(state_donations, decreasing = TRUE)[1:10]\n",
    "\n",
    "# Print results\n",
    "top_state_donations"
   ]
  },
  {
   "cell_type": "markdown",
   "id": "0d552245-b4d6-474a-9cc9-fa7b8e674d55",
   "metadata": {},
   "source": [
    "Using the data.table package in R we were able to read the CSV file. We then use the fread function to read in the csv file.\n"
   ]
  },
  {
   "cell_type": "markdown",
   "id": "88c9cdac-3e92-498f-83fa-e089bfc44ac8",
   "metadata": {},
   "source": [
    "## Question 5"
   ]
  },
  {
   "cell_type": "code",
   "execution_count": 1,
   "id": "d370d7c9-06db-42b9-b75f-240481a5c491",
   "metadata": {},
   "outputs": [
    {
     "data": {
      "text/plain": [
       "unlisted_genres\n",
       "  Animation      Comedy Documentary     Romance       Short       Sport \n",
       "          3           2           3           2           8           1 "
      ]
     },
     "metadata": {},
     "output_type": "display_data"
    },
    {
     "name": "stderr",
     "output_type": "stream",
     "text": [
      "Warning message in fread(\"/anvil/projects/tdm/data/movies_and_tv/imdb2024/basics.tsv\", :\n",
      "\"Found and resolved improper quoting out-of-sample. First healed line 242860: <<tt0253684\ttvEpisode\t\"Rome br<c3><bb>le\" (Portrait de Shirley Clarke)\t\"Rome br<c3><bb>le\" (Portrait de Shirley Clarke)\t0\t1970\t\t54\tDocumentary>>. If the fields are not quoted (e.g. field separator does not appear within any field), try quote=\"\" to avoid this warning.\"\n"
     ]
    },
    {
     "data": {
      "text/plain": [
       "all_genres\n",
       "     Action       Adult   Adventure   Animation   Biography      Comedy \n",
       "     462531      353525      425130      556566      119759     2181847 \n",
       "      Crime Documentary       Drama      Family     Fantasy   Film-Noir \n",
       "     459412     1062294     3151064      824607      234269         873 \n",
       "  Game-Show     History      Horror       Music     Musical     Mystery \n",
       "     424919      165528      202434      418888       92140      225390 \n",
       "       News  Reality-TV     Romance      Sci-Fi       Short       Sport \n",
       "    1051399      624854     1045327      117541     1191319      271872 \n",
       "  Talk-Show    Thriller         War     Western \n",
       "    1372500      184618       38662       30931 "
      ]
     },
     "metadata": {},
     "output_type": "display_data"
    }
   ],
   "source": [
    "# This is the Starter Code\n",
    "library(data.table)\n",
    "# Read first 10 lines to inspect the genres column\n",
    "imdb_sample <- fread(\"/anvil/projects/tdm/data/movies_and_tv/imdb2024/basics.tsv\", nrows = 10)\n",
    "genres_sample <- imdb_sample$genres\n",
    "\n",
    "# Apply the string splitting and count occurrences\n",
    "genre_list <- strsplit(genres_sample, ',')\n",
    "unlisted_genres <- unlist(genre_list)\n",
    "genre_count_sample <- table(unlisted_genres)\n",
    "\n",
    "# Print genre counts for the first 10 lines\n",
    "genre_count_sample\n",
    "\n",
    "# Part b: Analyze the entire dataset\n",
    "imdb_genres <- fread(\"/anvil/projects/tdm/data/movies_and_tv/imdb2024/basics.tsv\", select = \"genres\")\n",
    "all_genres <- unlist(strsplit(imdb_genres$genres, ','))\n",
    "genre_count_full <- table(all_genres)\n",
    "\n",
    "# Print full dataset genre counts\n",
    "genre_count_full"
   ]
  },
  {
   "cell_type": "markdown",
   "id": "9fbf00fb-2418-460f-ae94-2a32b0c28952",
   "metadata": {},
   "source": [
    "Using the data.table package in R we were able to read the CSV file. We then use the fread function to read in the csv file."
   ]
  },
  {
   "cell_type": "markdown",
   "id": "f76442d6-d02e-4f26-b9d6-c3183e1d6929",
   "metadata": {},
   "source": [
    "## Pledge\n",
    "\n",
    "By submitting this work I hereby pledge that this is my own, personal work. I've acknowledged in the designated place at the top of this file all sources that I used to complete said work, including but not limited to: online resources, books, and electronic communications. I've noted all collaboration with fellow students and/or TA's. I did not copy or plagiarize another's work.\n",
    "\n",
    "> As a Boilermaker pursuing academic excellence, I pledge to be honest and true in all that I do. Accountable together – We are Purdue."
   ]
  }
 ],
 "metadata": {
  "kernelspec": {
   "display_name": "seminar-r",
   "language": "R",
   "name": "seminar-r"
  },
  "language_info": {
   "codemirror_mode": "r",
   "file_extension": ".r",
   "mimetype": "text/x-r-source",
   "name": "R",
   "pygments_lexer": "r",
   "version": "4.4.1"
  }
 },
 "nbformat": 4,
 "nbformat_minor": 5
}
