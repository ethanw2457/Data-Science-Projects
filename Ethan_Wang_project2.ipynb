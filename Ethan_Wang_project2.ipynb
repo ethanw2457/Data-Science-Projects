{
 "cells": [
  {
   "cell_type": "markdown",
   "id": "be02a957-7133-4d02-818e-fedeb3cecb05",
   "metadata": {},
   "source": [
    "# Project 2 -- [Ethan] [Wang]"
   ]
  },
  {
   "cell_type": "markdown",
   "id": "a1228853-dd19-4ab2-89e0-0394d7d72de3",
   "metadata": {},
   "source": [
    "**TA Help:** No one\n",
    "\n",
    "- H\n",
    "    \n",
    "**Collaboration:** No one\n",
    "    \n",
    "- H"
   ]
  },
  {
   "cell_type": "markdown",
   "id": "6180e742-8e39-4698-98ff-5b00c8cf8ea0",
   "metadata": {},
   "source": [
    "## Question 1"
   ]
  },
  {
   "cell_type": "code",
   "execution_count": 7,
   "id": "95657852-7202-460b-a911-6bb3b39bb6b2",
   "metadata": {},
   "outputs": [
    {
     "name": "stdout",
     "output_type": "stream",
     "text": [
      "  ID                     Name Sex Age Height Weight           Team NOC\n",
      "1  1                A Dijiang   M  24    180     80          China CHN\n",
      "2  2                 A Lamusi   M  23    170     60          China CHN\n",
      "3  3      Gunnar Nielsen Aaby   M  24     NA     NA        Denmark DEN\n",
      "4  4     Edgar Lindenau Aabye   M  34     NA     NA Denmark/Sweden DEN\n",
      "5  5 Christine Jacoba Aaftink   F  21    185     82    Netherlands NED\n",
      "6  5 Christine Jacoba Aaftink   F  21    185     82    Netherlands NED\n",
      "        Games Year Season      City         Sport\n",
      "1 1992 Summer 1992 Summer Barcelona    Basketball\n",
      "2 2012 Summer 2012 Summer    London          Judo\n",
      "3 1920 Summer 1920 Summer Antwerpen      Football\n",
      "4 1900 Summer 1900 Summer     Paris    Tug-Of-War\n",
      "5 1988 Winter 1988 Winter   Calgary Speed Skating\n",
      "6 1988 Winter 1988 Winter   Calgary Speed Skating\n",
      "                               Event Medal\n",
      "1        Basketball Men's Basketball  <NA>\n",
      "2       Judo Men's Extra-Lightweight  <NA>\n",
      "3            Football Men's Football  <NA>\n",
      "4        Tug-Of-War Men's Tug-Of-War  Gold\n",
      "5   Speed Skating Women's 500 metres  <NA>\n",
      "6 Speed Skating Women's 1,000 metres  <NA>\n"
     ]
    }
   ],
   "source": [
    "%%R\n",
    "# We are reading the csv file into the myDF\n",
    "myDF <- read.csv(\"/anvil/projects/tdm/data/olympics/athlete_events.csv\")\n",
    "# This displays the first few columns\n",
    "head(myDF)"
   ]
  },
  {
   "cell_type": "code",
   "execution_count": 8,
   "id": "c6585567-ee73-437c-9f66-da691fd8def0",
   "metadata": {},
   "outputs": [
    {
     "name": "stdout",
     "output_type": "stream",
     "text": [
      "\n",
      " 1896  1900  1904  1906  1908  1912  1920  1924  1928  1932  1936  1948  1952 \n",
      "  380  1936  1301  1733  3101  4040  4292  5693  5574  3321  7401  7480  9358 \n",
      " 1956  1960  1964  1968  1972  1976  1980  1984  1988  1992  1994  1996  1998 \n",
      " 6434  9235  9480 10479 11959 10502  8937 11588 14676 16413  3160 13780  3605 \n",
      " 2000  2002  2004  2006  2008  2010  2012  2014  2016 \n",
      "13821  4109 13443  4382 13602  4402 12920  4891 13688 \n"
     ]
    }
   ],
   "source": [
    "%%R\n",
    "# We are reading the csv file into the myDF\n",
    "myDF <- read.csv(\"/anvil/projects/tdm/data/olympics/athlete_events.csv\")\n",
    "# returns each year as well as their athletes\n",
    "table(myDF$Year)"
   ]
  },
  {
   "cell_type": "code",
   "execution_count": null,
   "id": "dc0962c5-ad53-4571-8c9d-1cfb5292405d",
   "metadata": {},
   "outputs": [],
   "source": [
    "# Notes\n",
    "# %%R\n",
    "# # We are creating the table for the olympics data for athlete_events\n",
    "# myDF <- read.csv(\"/anvil/projects/tdm/data/olympics/athlete_events.csv\")\n",
    "# myTable <- table(myDF$Year)"
   ]
  },
  {
   "cell_type": "code",
   "execution_count": 1,
   "id": "51723742-1687-4f28-b5c1-e6d0b95f3889",
   "metadata": {},
   "outputs": [],
   "source": [
    "# Notes\n",
    "# %%R\n",
    "# # Here we are plotting the data for the olympics data for athlete_events\n",
    "# myDF <- read.csv(\"/anvil/projects/tdm/data/olympics/athlete_events.csv\")\n",
    "# plot(myTable)"
   ]
  },
  {
   "cell_type": "markdown",
   "id": "b456e57c-4a12-464b-999a-ef2df5af80c1",
   "metadata": {},
   "source": [
    "By using a plot, we can plot the data from the table and visualize the data that we have read into the data frame.\n",
    "\n",
    "\n",
    "I began by printing the first six rows of the dataset to get a better understanding of the data. Following that, I printed the table as instructed. In this table, the first row in each alternating pair represents the year, while the next row shows the number of athletes participating that year. The years 1914, 1940, and 1944 did not have Olympic Games due to the world wars. Additionally, starting from 1992, the Olympics have alternated every four years between summer and winter events. The overall trend shows a general increase in the number of athletes, with significantly fewer athletes participating in the winter Olympics compared to the summer Olympics."
   ]
  },
  {
   "cell_type": "markdown",
   "id": "fc601975-35ed-4680-a4e1-0273ee3cc047",
   "metadata": {},
   "source": [
    "## Question 2"
   ]
  },
  {
   "cell_type": "code",
   "execution_count": 16,
   "id": "417b3e2d-11af-4db1-bafe-257c658caf31",
   "metadata": {},
   "outputs": [
    {
     "name": "stdout",
     "output_type": "stream",
     "text": [
      "\n",
      "  NFL   NBO   UNK   SSD   YMD   TUV   KOS   TLS   BRU   CRT   KIR   YAR   RHO \n",
      "    1     2     2     3     5     7     8     9    10    11    11    11    12 \n",
      "  ROT   NRU   MHL   STP   CPV   COM   DMA   WIF   GBS   PLE   PLW   FSM   SOL \n",
      "   12    13    14    15    18    19    19    20    21    21    25    26    27 \n",
      "  LCA   MTN   SOM   YEM   VAN   BHU   ASA   DJI   BDI   COK   GEQ   CHA   ARU \n",
      "   28    29    32    32    35    36    37    38    39    40    40    41    42 \n",
      "  SKN   VIN   ERI   BUR   IVB   MAL   TGA   NIG   MDV   GRN   LAO   TKM   BAN \n",
      "   42    42    43    44    45    45    46    47    49    54    54    54    55 \n",
      "  GAM   RWA   TOG   VNM   CAM   GAB   SAM   LES   OMA   CAF   SWZ   SUR   ALB \n",
      "   56    56    59    62    63    63    63    66    66    67    67    69    70 \n",
      "  TJK   BEN   GUI   LBR   BIZ   NAM   MOZ   AHO   JOR   CAY   LBA   MKD   ANZ \n",
      "   70    71    73    74    76    77    78    79    80    83    84    84    86 \n",
      "  MAW   BOT   MLI   COD   SAA   IOA   MNE   NEP   GUY   CGO   HAI   SUD   PNG \n",
      "   87    90    92    93    93    94    94    94   102   105   106   107   108 \n",
      "  MYA   SEY   GUM   SLE   MLT   MAD   UAR   AFG   BRN   NCA   ANT   BIH   PAR \n",
      "  111   111   112   114   118   119   123   126   126   129   133   134   135 \n",
      "  PAN   MRI   UAE   SRI   BOL   BOH   VIE   SYR   TAN   AND   SMR   ZAM   HON \n",
      "  139   144   144   146   152   153   154   156   161   169   181   183   189 \n",
      "  QAT   CIV   MON   BER   ESA   BAR   ARM   CYP   KGZ   KSA   FIJ   IRQ   MDA \n",
      "  192   193   197   212   218   219   221   225   227   230   232   232   234 \n",
      "  UGA   CRC   ANG   DOM   ECU   AZE   KUW   GEO   ISV   ZIM   CMR   SCG   LIB \n",
      "  260   264   267   277   277   283   284   286   294   311   312   321   329 \n",
      "  SGP   GHA   LIE   BAH   TTO   ETH   SRB   SEN   INA   GUA   UZB   MAS   PER \n",
      "  349   359   369   374   375   378   392   393   412   425   495   530   532 \n",
      "  MGL   ALG   TUN   PAK   URU   ISL   LTU   ISR   MAR   HKG   PHI   THA   KEN \n",
      "  550   551   561   562   576   627   654   665   682   685   694   747   772 \n",
      "  IRI   PRK   JAM   EUN   CRO   EST   NGR   CHI   VEN   PUR   LAT   LUX   SVK \n",
      "  789   807   848   864   876   876   882   925   925   927   951   996  1055 \n",
      "  COL   TPE   SLO   IRL   TUR   IND   KAZ   POR   EGY   RSA   BLR   CZE   NZL \n",
      " 1069  1097  1111  1325  1356  1408  1429  1522  1622  1711  1787  1874  2342 \n",
      "  CUB   UKR   YUG   GDR   MEX   GRE   ARG   FRG   BUL   DEN   BRA   BEL   TCH \n",
      " 2479  2559  2583  2645  2880  3181  3297  3315  3530  3570  3848  3857  4404 \n",
      "  ROU   KOR   NOR   AUT   CHN   RUS   ESP   FIN   URS   NED   SUI   POL   HUN \n",
      " 4405  4464  4960  5141  5141  5143  5313  5467  5685  5839  6150  6207  6607 \n",
      "  AUS   SWE   JPN   CAN   GER   ITA   GBR   FRA   USA \n",
      " 7638  8339  8444  9733  9830 10715 12256 12758 18853 \n"
     ]
    }
   ],
   "source": [
    "%%R\n",
    "# The NOC column is now being sorted\n",
    "sort(table(myDF$NOC))"
   ]
  },
  {
   "cell_type": "code",
   "execution_count": 15,
   "id": "8d6a1bbe-be05-4acb-931e-d6b7707dfc14",
   "metadata": {},
   "outputs": [
    {
     "name": "stdout",
     "output_type": "stream",
     "text": [
      "\n",
      "Jean Lucien Nicolas Jacoby                Takashi Ono \n",
      "                        32                         33 \n",
      "       Ioannis Theofilakis      Joseph \"Josy\" Stoffel \n",
      "                        36                         38 \n",
      "  Heikki Ilmari Savolainen       Robert Tait McKenzie \n",
      "                        39                         58 \n"
     ]
    }
   ],
   "source": [
    "%%R\n",
    "# Returns a couple of the highest values form the sorted table\n",
    "tail(sort(table(myDF$Name)))"
   ]
  },
  {
   "cell_type": "code",
   "execution_count": 10,
   "id": "8325fd62-2e11-49f1-aa2f-e6ad75d81d51",
   "metadata": {},
   "outputs": [],
   "source": [
    "# Notes\n",
    "# %%R\n",
    "# # Here we are doing a little bit of testing before we go ahead and view the entire list of authors because otherwise if the data is too much that would be bad\n",
    "# myDF <- read.csv(\"/anvil/projects/tdm/data/olympics/athlete_events.csv\")\n",
    "# # Returns the head of the column \"NOC\"\n",
    "# head(table(myDF$NOC))\n",
    "# # Returns the tail of the column \"NOC\"\n",
    "# tail(table(myDF$NOC))"
   ]
  },
  {
   "cell_type": "code",
   "execution_count": 11,
   "id": "64170665-01fc-4f60-87f4-e6a30d5c907f",
   "metadata": {},
   "outputs": [],
   "source": [
    "# Notes\n",
    "# %%R\n",
    "# # Here we are doing a little bit of testing before we go ahead and view the entire list of authors because otherwise if the data is too much that would be bad\n",
    "# myDF <- read.csv(\"/anvil/projects/tdm/data/olympics/athlete_events.csv\")\n",
    "# # Returns the head of the column \"Name\"\n",
    "# head(table(myDF$Name))\n",
    "# # Returns the tail of the column \"Name\"\n",
    "# tail(table(myDF$Name))"
   ]
  },
  {
   "cell_type": "code",
   "execution_count": 68,
   "id": "a16336a1-1ef0-41e8-bc7c-49387db27497",
   "metadata": {},
   "outputs": [],
   "source": [
    "# Notes\n",
    "# %%R\n",
    "# # Here we are creating another data frame but this time we are reading in the reviews for ice cream\n",
    "# myDF <- read.csv(\"/anvil/projects/tdm/data/icecream/combined/reviews.csv\")"
   ]
  },
  {
   "cell_type": "code",
   "execution_count": 67,
   "id": "d10d2b5f-7165-4f75-a683-a3e29c87fce8",
   "metadata": {},
   "outputs": [],
   "source": [
    "# Notes\n",
    "# %%R\n",
    "# # This is just an example of how even though this is just the head, there is still a lot of data\n",
    "# myDF <- read.csv(\"/anvil/projects/tdm/data/icecream/combined/reviews.csv\")\n",
    "# head(myDF)"
   ]
  },
  {
   "cell_type": "code",
   "execution_count": 69,
   "id": "45fe2958-ef45-4500-be95-f7098d93920d",
   "metadata": {},
   "outputs": [],
   "source": [
    "# Notes\n",
    "# %%R\n",
    "# # Here we can make a table of the brands\n",
    "# myDF <- read.csv(\"/anvil/projects/tdm/data/icecream/combined/reviews.csv\")\n",
    "# table(myDF$brand)"
   ]
  },
  {
   "cell_type": "code",
   "execution_count": null,
   "id": "e1c52449-4937-423e-bc1d-9d633a40e5d6",
   "metadata": {},
   "outputs": [],
   "source": [
    "# Notes\n",
    "# %%R\n",
    "# # Here we are doing a little bit of testing before we go ahead and view the entire list of authors because otherwise if the data is too much that would be bad\n",
    "# myDF <- read.csv(\"/anvil/projects/tdm/data/icecream/combined/reviews.csv\")\n",
    "# length(table(myDF$author))"
   ]
  },
  {
   "cell_type": "code",
   "execution_count": null,
   "id": "6e7ac735-9b92-4d91-b90a-0da1b1a18a40",
   "metadata": {},
   "outputs": [],
   "source": [
    "# Notes\n",
    "# %%R\n",
    "# # Here we are viewing the tail of the table\n",
    "# myDF <- read.csv(\"/anvil/projects/tdm/data/icecream/combined/reviews.csv\")\n",
    "# tail(table(myDF$author))"
   ]
  },
  {
   "cell_type": "code",
   "execution_count": 70,
   "id": "60431011-edbf-45ec-b73f-44f75e0fbd3c",
   "metadata": {},
   "outputs": [],
   "source": [
    "# Notes\n",
    "# %%R\n",
    "# # Here we are only viewing the head of the table\n",
    "# myDF <- read.csv(\"/anvil/projects/tdm/data/icecream/combined/reviews.csv\")\n",
    "# head(table(myDF$author))"
   ]
  },
  {
   "cell_type": "code",
   "execution_count": 15,
   "id": "331dd767-0ee8-403a-a2e1-9329dcd08a4d",
   "metadata": {},
   "outputs": [
    {
     "name": "stdout",
     "output_type": "stream",
     "text": [
      "integer(0)\n"
     ]
    }
   ],
   "source": [
    "# Notes\n",
    "# %%R\n",
    "# # Here we are sorting the table before looking at the tail\n",
    "# myDF <- read.csv(\"/anvil/projects/tdm/data/icecream/combined/reviews.csv\")\n",
    "# tail(sort(table(myDF$author)))"
   ]
  },
  {
   "cell_type": "code",
   "execution_count": 71,
   "id": "92c72df6-599d-4f10-86c5-0c44b36222d7",
   "metadata": {},
   "outputs": [],
   "source": [
    "# Notes\n",
    "# %%R\n",
    "# # Here we are sorting the table before looking at the tail last 20\n",
    "# myDF <- read.csv(\"/anvil/projects/tdm/data/icecream/combined/reviews.csv\")\n",
    "# tail(sort(table(myDF$author)), n=20)"
   ]
  },
  {
   "cell_type": "markdown",
   "id": "14dc22d4-ddc3-41cc-a91a-cb0025bc0c80",
   "metadata": {},
   "source": [
    "You are able to choose whether you want to view the head of the table or the tail of the table which is like viewing the front few values and the back few values respectively. You can also sort the table and find the length of the table.\n",
    "\n",
    "I initially used table(myDF$NOC) and noticed that the data was not sorted. To address this, I applied the sort() function. The USA appears the most frequently, with a count of 18,853. Since the list of names was extensive, I utilized the tail() function to focus on the entries with the highest occurrences, as we were interested in the most frequent entries, not the least (which would have required head()). Among the names, Robert Tait McKenzie appeared with a count of 58.\n"
   ]
  },
  {
   "cell_type": "markdown",
   "id": "8e586edd-ff26-4ce2-8f6b-2424b26f2929",
   "metadata": {},
   "source": [
    "## Question 3"
   ]
  },
  {
   "cell_type": "code",
   "execution_count": 26,
   "id": "76e5baa6-39dc-41d9-9539-8dce966200e6",
   "metadata": {},
   "outputs": [
    {
     "name": "stdout",
     "output_type": "stream",
     "text": [
      "  ID                     Name Sex Age Height Weight           Team NOC\n",
      "1  1                A Dijiang   M  24    180     80          China CHN\n",
      "2  2                 A Lamusi   M  23    170     60          China CHN\n",
      "3  3      Gunnar Nielsen Aaby   M  24     NA     NA        Denmark DEN\n",
      "4  4     Edgar Lindenau Aabye   M  34     NA     NA Denmark/Sweden DEN\n",
      "5  5 Christine Jacoba Aaftink   F  21    185     82    Netherlands NED\n",
      "6  5 Christine Jacoba Aaftink   F  21    185     82    Netherlands NED\n",
      "        Games Year Season      City         Sport\n",
      "1 1992 Summer 1992 Summer Barcelona    Basketball\n",
      "2 2012 Summer 2012 Summer    London          Judo\n",
      "3 1920 Summer 1920 Summer Antwerpen      Football\n",
      "4 1900 Summer 1900 Summer     Paris    Tug-Of-War\n",
      "5 1988 Winter 1988 Winter   Calgary Speed Skating\n",
      "6 1988 Winter 1988 Winter   Calgary Speed Skating\n",
      "                               Event Medal\n",
      "1        Basketball Men's Basketball  <NA>\n",
      "2       Judo Men's Extra-Lightweight  <NA>\n",
      "3            Football Men's Football  <NA>\n",
      "4        Tug-Of-War Men's Tug-Of-War  Gold\n",
      "5   Speed Skating Women's 500 metres  <NA>\n",
      "6 Speed Skating Women's 1,000 metres  <NA>\n"
     ]
    }
   ],
   "source": [
    "%%R\n",
    "# Returns the first couple of values\n",
    "head(myDF)"
   ]
  },
  {
   "cell_type": "code",
   "execution_count": 27,
   "id": "0319a056-a4f6-4ac2-a0d8-c9ee111d6ad3",
   "metadata": {},
   "outputs": [
    {
     "name": "stdout",
     "output_type": "stream",
     "text": [
      "Denmark \n",
      "   3424 \n"
     ]
    }
   ],
   "source": [
    "%%R\n",
    "# Returns the values that are identical to \"Denmark\"\n",
    "table(myDF$Team)[\"Denmark\"]"
   ]
  },
  {
   "cell_type": "code",
   "execution_count": 29,
   "id": "645db44b-3ace-4533-9c68-daa9b1216323",
   "metadata": {},
   "outputs": [
    {
     "name": "stdout",
     "output_type": "stream",
     "text": [
      "[1] 3496\n"
     ]
    }
   ],
   "source": [
    "%%R\n",
    "# Returns the number of values in the table that have \"Denmark\" in it\n",
    "length(grep(\"Denmark\", myDF$Team))"
   ]
  },
  {
   "cell_type": "code",
   "execution_count": 30,
   "id": "9031fcb1-dc10-460f-8ff9-0c421f930a0b",
   "metadata": {},
   "outputs": [
    {
     "name": "stdout",
     "output_type": "stream",
     "text": [
      "\n",
      "        Denmark-1         Denmark-2         Denmark-3         Denmark-4 \n",
      "               30                30                 2                 2 \n",
      "   Denmark/Sweden Miss Denmark 1964 \n",
      "                6                 2 \n"
     ]
    }
   ],
   "source": [
    "%%R\n",
    "# Returns the number of values that have either identical or include the value \"Denmark\"\n",
    "table(myDF$Team[ grepl(\"Denmark\", myDF$Team) & (myDF$Team != \"Denmark\") ])"
   ]
  },
  {
   "cell_type": "code",
   "execution_count": 19,
   "id": "14709580-1825-4257-8534-af4d33abbdcb",
   "metadata": {},
   "outputs": [],
   "source": [
    "# notes\n",
    "# %%R\n",
    "# # The number of rows corresponding exactly to team \"Denmark\".\n",
    "# myDF <- read.csv(\"/anvil/projects/tdm/data/olympics/athlete_events.csv\")\n",
    "# sum(myDF$Team == \"Denmark\")"
   ]
  },
  {
   "cell_type": "code",
   "execution_count": 18,
   "id": "ac7d48ba-f0c0-4e4f-ba02-7038f30505d8",
   "metadata": {},
   "outputs": [],
   "source": [
    "# notes\n",
    "# %%R\n",
    "# # The number of rows with \"Denmark\" as part of the team name.\n",
    "# myDF <- read.csv(\"/anvil/projects/tdm/data/olympics/athlete_events.csv\")\n",
    "# sum(myDF$Team != \"Denmark\")"
   ]
  },
  {
   "cell_type": "code",
   "execution_count": 17,
   "id": "cc35c185-1e0b-4bf6-a913-b163cf373017",
   "metadata": {},
   "outputs": [],
   "source": [
    "# notes\n",
    "# %%R\n",
    "# # The names of teams that have \"Denmark\" included but are not exactly \"Denmark\".\n",
    "# myDF <- read.csv(\"/anvil/projects/tdm/data/olympics/athlete_events.csv\")\n",
    "# myDF$Team[ grepl(\"Denmark\", myDF$Team) & (myDF$Team != \"Denmark\") ]"
   ]
  },
  {
   "cell_type": "code",
   "execution_count": 20,
   "id": "bbe0f40d-9655-4653-9ca8-886bdb61cb91",
   "metadata": {},
   "outputs": [],
   "source": [
    "# notes\n",
    "# %%R\n",
    "# myDF <- read.csv(\"/anvil/projects/tdm/data/olympics/athlete_events.csv\")\n",
    "# head(myDF)\n",
    "# # Test if a value is equal to japan\n",
    "# tail(myDF$Team == \"Japan\")\n",
    "# # R turns FALSE value to 0, and TRUE values to 1,\n",
    "# # so we can find th enumber of TRUE values by just summing them up\n",
    "# sum(myDF$Team == \"Japan\")"
   ]
  },
  {
   "cell_type": "code",
   "execution_count": 21,
   "id": "2a45fd46-973b-4c44-8acb-6508a649dfde",
   "metadata": {},
   "outputs": [],
   "source": [
    "# notes\n",
    "# %%R\n",
    "# myDF <- read.csv(\"/anvil/projects/tdm/data/olympics/athlete_events.csv\")\n",
    "# # Test if a value is equal to United States\n",
    "# sum(myDF$Team == \"United States\")\n",
    "# # Make a table with only the united states\n",
    "# table(myDF$Team)[\"United States\"]"
   ]
  },
  {
   "cell_type": "code",
   "execution_count": 22,
   "id": "81f9ab80-62da-48a0-8ca0-71fb37bde40c",
   "metadata": {},
   "outputs": [],
   "source": [
    "# notes\n",
    "# %%R\n",
    "# myDF <- read.csv(\"/anvil/projects/tdm/data/olympics/athlete_events.csv\")\n",
    "# sum(myDF$Team == \"United States\")\n",
    "# table(myDF$Team)[\"United States\"]\n",
    "# # two tools to search for patterns\n",
    "# # grep finds the locations where a pattern occurs\n",
    "# # grepl returns TRUE or FALSE according to whether or not the pattern occurs\n",
    "# head(grep(\"Japan\", myDF$Team))\n",
    "# # You can also find the length\n",
    "# length(grep(\"Japan\", myDF$Team))"
   ]
  },
  {
   "cell_type": "code",
   "execution_count": 61,
   "id": "8cffc767-d1c8-4d64-b7dc-f0d2ee8a80d1",
   "metadata": {},
   "outputs": [],
   "source": [
    "# notes\n",
    "# %%R\n",
    "# myDF <- read.csv(\"/anvil/projects/tdm/data/olympics/athlete_events.csv\")\n",
    "# # Shows how many are TRUE or FALSE\n",
    "# head(grepl(\"Japan\", myDF$Team))\n",
    "# # when we sum TRUE and FALSE values,\n",
    "# # the FALSE values become 0 and the TRUE values become 1# so the sum is the number of TRUE values\n",
    "# sum(grepl(\"Japan\", myDF$Team))\n",
    "# myDF$Team[ grepl(\"Japan\", myDF$Team) & (myDF$Team != \"Japan\") ]\n",
    "# # remember: 8289 teams have *exactly* the team name \"Japan\"\n",
    "# # and 8423 teams have \"Japan\" as part of the name, but maybe not the whole name\n",
    "# # what are the 8423 - 8289 = 134 team names\n",
    "# # that have Japan but are not exactly Japan?"
   ]
  },
  {
   "cell_type": "code",
   "execution_count": 23,
   "id": "9b293d77-fe58-4b17-aeda-baac95da5093",
   "metadata": {},
   "outputs": [],
   "source": [
    "# notes\n",
    "# %%R\n",
    "# myDF <- read.csv(\"/anvil/projects/tdm/data/olympics/athlete_events.csv\")\n",
    "# # Makes this into a table\n",
    "# table(myDF$Team[ grepl(\"Japan\", myDF$Team) & (myDF$Team != \"Japan\") ])"
   ]
  },
  {
   "cell_type": "code",
   "execution_count": null,
   "id": "4c934149-a417-4eb0-9574-7c4e6779a0dd",
   "metadata": {},
   "outputs": [],
   "source": [
    "# notes\n",
    "# %%R\n",
    "# myDF <- read.csv(\"/anvil/projects/tdm/data/olympics/athlete_events.csv\")\n",
    "# # Figure out the number of something\n",
    "# table(myDF$Team)[\"Germany\"]"
   ]
  },
  {
   "cell_type": "code",
   "execution_count": 24,
   "id": "7dbed388-5db1-41ec-8a34-cf2e4a8ff078",
   "metadata": {},
   "outputs": [],
   "source": [
    "# notes\n",
    "# %%R\n",
    "# myDF <- read.csv(\"/anvil/projects/tdm/data/olympics/athlete_events.csv\")\n",
    "# # sum the number of TRUE values\n",
    "# sum(myDF$Team == \"Germany\")"
   ]
  },
  {
   "cell_type": "code",
   "execution_count": 25,
   "id": "aa89c46c-47b5-4e60-bfc4-d964f7e076d3",
   "metadata": {},
   "outputs": [],
   "source": [
    "# notes\n",
    "# %%R\n",
    "# myDF <- read.csv(\"/anvil/projects/tdm/data/olympics/athlete_events.csv\")\n",
    "# # sum the number of Germany\n",
    "# length(grep(\"Germany\", myDF$Team))\n",
    "# # makes TRUE and FALSE values, \n",
    "# # according to whether or not \"Germany\" is in the team name\n",
    "# # and then we can sum up the TRUE values to see how many there are\n",
    "# # remember: when we sum, TRUE becomes 1 and FALSE becomes 0\n",
    "# #grep(\"Germany\", myDF$Team)"
   ]
  },
  {
   "cell_type": "markdown",
   "id": "47c6229f-35f7-400c-8366-c442baa5cf47",
   "metadata": {},
   "source": [
    "There are exactly 3,424 rows that correspond specifically to “Denmark.” Additionally, there are 3,496 rows that include team names containing “Denmark.” The names of these teams are “Denmark-1,” “Denmark-2,” “Denmark-3,” “Denmark-4,” “Denmark/Sweden,” and “Miss Denmark 1964.”\n"
   ]
  },
  {
   "cell_type": "markdown",
   "id": "da22f29c-d245-4d2b-9fc1-ca14cb6087d9",
   "metadata": {},
   "source": [
    "## Question 4"
   ]
  },
  {
   "cell_type": "code",
   "execution_count": 31,
   "id": "1c29b307-ef1e-43cc-b3d2-7920480da717",
   "metadata": {},
   "outputs": [
    {
     "data": {
      "text/plain": [
       "data.table 1.15.4 using 1 threads (see ?getDTthreads).  Latest news: r-datatable.com\n"
      ]
     },
     "metadata": {},
     "output_type": "display_data"
    }
   ],
   "source": [
    "%%R\n",
    "# This will import the library that is data.table that allows us to use fread which reads a csv file and separates words based on an indicator value\n",
    "library(data.table)\n",
    "myDF <- fread(\"/anvil/projects/tdm/data/election/itcont1980.txt\", quote=\"\")\n",
    "names(myDF) <- c(\"CMTE_ID\", \"AMNDT_IND\", \"RPT_TP\", \"TRANSACTION_PGI\", \"IMAGE_NUM\", \"TRANSACTION_TP\", \"ENTITY_TP\", \"NAME\", \"CITY\", \"STATE\", \"ZIP_CODE\", \"EMPLOYER\", \"OCCUPATION\", \"TRANSACTION_DT\", \"TRANSACTION_AMT\", \"OTHER_ID\", \"TRAN_ID\", \"FILE_NUM\", \"MEMO_CD\", \"MEMO_TEXT\", \"SUB_ID\")"
   ]
  },
  {
   "cell_type": "code",
   "execution_count": 34,
   "id": "6f90b78f-4dfc-4bf9-9ea5-37b5eeb2c9c8",
   "metadata": {},
   "outputs": [
    {
     "name": "stdout",
     "output_type": "stream",
     "text": [
      "\n",
      "                            LUCAS, HARRY JR \n",
      "                                         46 \n",
      "                              WILLIAMS, J D \n",
      "                                         64 \n",
      "  DEMOCRATIC CONGRESSIONAL DINNER COMMITTEE \n",
      "                                         65 \n",
      "                               REPP, WARD W \n",
      "                                         89 \n",
      " AMERICAN DENTAL POLITICAL ACTION COMMITTEE \n",
      "                                         96 \n",
      "AMERICAN MEDICAL POLITICAL ACTION COMMITTEE \n",
      "                                        769 \n"
     ]
    }
   ],
   "source": [
    "%%R\n",
    "# Outputs the values at the highest from the sorted list of the NAME column\n",
    "tail(sort(table(myDF$NAME)))"
   ]
  },
  {
   "cell_type": "code",
   "execution_count": 35,
   "id": "1d666483-abc8-4017-8741-dfe61732465d",
   "metadata": {},
   "outputs": [
    {
     "name": "stdout",
     "output_type": "stream",
     "text": [
      "\n",
      "         FL    IL    NY    TX    CA \n",
      "12654 15576 15895 25669 34862 37069 \n"
     ]
    }
   ],
   "source": [
    "%%R\n",
    "# Outputs the values at the highest from the sorted list of the STATE column\n",
    "tail(sort(table(myDF$STATE)))"
   ]
  },
  {
   "cell_type": "code",
   "execution_count": 36,
   "id": "2b777e61-cbd4-4607-a0db-b890518255cc",
   "metadata": {},
   "outputs": [],
   "source": [
    "# notes\n",
    "# %%R\n",
    "# # load up data.table library\n",
    "# library(data.table)\n",
    "# # Because we have the data.table library we are able to use fread\n",
    "# myDF <- fread(\"/anvil/projects/tdm/data/election/itcont1980.txt\", quote=\"\")\n",
    "# names(myDF) <- c(\"CMTE_ID\", \"AMNDT_IND\", \"RPT_TP\", \"TRANSACTION_PGI\", \"IMAGE_NUM\", \"TRANSACTION_TP\", \"ENTITY_TP\", \"NAME\", \"CITY\", \"STATE\", \"ZIP_CODE\", \"EMPLOYER\", \"OCCUPATION\", \"TRANSACTION_DT\", \"TRANSACTION_AMT\", \"OTHER_ID\", \"TRAN_ID\", \"FILE_NUM\", \"MEMO_CD\", \"MEMO_TEXT\", \"SUB_ID\")\n",
    "# # Returns the head of the column \"STATE\"\n",
    "# head(table(myDF$STATE))\n",
    "# # Returns the tail of the column \"STATE\"\n",
    "# tail(table(myDF$STATE))"
   ]
  },
  {
   "cell_type": "code",
   "execution_count": 33,
   "id": "feb9d80c-0aca-467b-899f-96dc0df0cb4d",
   "metadata": {},
   "outputs": [],
   "source": [
    "# notes\n",
    "# %%R\n",
    "# # load up data.table library\n",
    "# library(data.table)\n",
    "# # Because we have the data.table library we are able to use fread\n",
    "# myDF <- fread(\"/anvil/projects/tdm/data/election/itcont1980.txt\", quote=\"\")\n",
    "# names(myDF) <- c(\"CMTE_ID\", \"AMNDT_IND\", \"RPT_TP\", \"TRANSACTION_PGI\", \"IMAGE_NUM\", \"TRANSACTION_TP\", \"ENTITY_TP\", \"NAME\", \"CITY\", \"STATE\", \"ZIP_CODE\", \"EMPLOYER\", \"OCCUPATION\", \"TRANSACTION_DT\", \"TRANSACTION_AMT\", \"OTHER_ID\", \"TRAN_ID\", \"FILE_NUM\", \"MEMO_CD\", \"MEMO_TEXT\", \"SUB_ID\")\n",
    "# # Returns the head of the column \"NAME\"\n",
    "# head(table(myDF$NAME))\n",
    "# # Returns the tail of the column \"NAME\"\n",
    "# tail(table(myDF$NAME))"
   ]
  },
  {
   "cell_type": "markdown",
   "id": "0d552245-b4d6-474a-9cc9-fa7b8e674d55",
   "metadata": {},
   "source": [
    "The most frequently appearing name is the American Medical Political Action Committee, with 769 occurrences. The state that appears the most is California (CA), with 37,069 occurrences.\n"
   ]
  },
  {
   "cell_type": "markdown",
   "id": "88c9cdac-3e92-498f-83fa-e089bfc44ac8",
   "metadata": {},
   "source": [
    "## Question 5"
   ]
  },
  {
   "cell_type": "code",
   "execution_count": 38,
   "id": "d370d7c9-06db-42b9-b75f-240481a5c491",
   "metadata": {},
   "outputs": [
    {
     "ename": "SyntaxError",
     "evalue": "invalid syntax (3991573219.py, line 2)",
     "output_type": "error",
     "traceback": [
      "\u001b[0;36m  Cell \u001b[0;32mIn[38], line 2\u001b[0;36m\u001b[0m\n\u001b[0;31m    tail(sort(table(paste(myDF$CITY, myDF$STATE))))\u001b[0m\n\u001b[0m                              ^\u001b[0m\n\u001b[0;31mSyntaxError\u001b[0m\u001b[0;31m:\u001b[0m invalid syntax\n"
     ]
    }
   ],
   "source": [
    "%%R\n",
    "# This will combine the city and state, then output the table of this combination process, sort it from lowest to highest, and return a couple of city and state combinations at the end\n",
    "tail(sort(table(paste(myDF$CITY, myDF$STATE))))"
   ]
  },
  {
   "cell_type": "markdown",
   "id": "9fbf00fb-2418-460f-ae94-2a32b0c28952",
   "metadata": {},
   "source": [
    "The top 5 city-and-state locations for donations are New York, New York with 13,862 donations; Houston, Texas with 10,146 donations; Dallas, Texas with 6,438 donations; Washington, DC with 5,890 donations; and Los Angeles, California with 5,866 donations."
   ]
  },
  {
   "cell_type": "markdown",
   "id": "f76442d6-d02e-4f26-b9d6-c3183e1d6929",
   "metadata": {},
   "source": [
    "## Pledge\n",
    "\n",
    "By submitting this work I hereby pledge that this is my own, personal work. I've acknowledged in the designated place at the top of this file all sources that I used to complete said work, including but not limited to: online resources, books, and electronic communications. I've noted all collaboration with fellow students and/or TA's. I did not copy or plagiarize another's work.\n",
    "\n",
    "> As a Boilermaker pursuing academic excellence, I pledge to be honest and true in all that I do. Accountable together – We are Purdue."
   ]
  }
 ],
 "metadata": {
  "kernelspec": {
   "display_name": "seminar",
   "language": "python",
   "name": "python3"
  },
  "language_info": {
   "codemirror_mode": {
    "name": "ipython",
    "version": 3
   },
   "file_extension": ".py",
   "mimetype": "text/x-python",
   "name": "python",
   "nbconvert_exporter": "python",
   "pygments_lexer": "ipython3",
   "version": "3.11.5"
  }
 },
 "nbformat": 4,
 "nbformat_minor": 5
}
