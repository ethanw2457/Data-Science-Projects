{
 "cells": [
  {
   "cell_type": "markdown",
   "id": "be02a957-7133-4d02-818e-fedeb3cecb05",
   "metadata": {},
   "source": [
    "# Project 11 -- [Ethan] [Wang]"
   ]
  },
  {
   "cell_type": "markdown",
   "id": "a1228853-dd19-4ab2-89e0-0394d7d72de3",
   "metadata": {},
   "source": [
    "**TA Help:** NA\n",
    "\n",
    "- NA\n",
    "    \n",
    "**Collaboration:** NA\n",
    "    \n",
    "- NA"
   ]
  },
  {
   "cell_type": "markdown",
   "id": "6180e742-8e39-4698-98ff-5b00c8cf8ea0",
   "metadata": {},
   "source": [
    "## Question 1"
   ]
  },
  {
   "cell_type": "code",
   "execution_count": null,
   "id": "49445606-d363-41b4-b479-e319a9a84c01",
   "metadata": {},
   "outputs": [],
   "source": [
    "# This is the Starter Code\n",
    "library(data.table)\n",
    "# Load the flights data\n",
    "monthlydepdelays <- function(year) {\n",
    "  # Load the flights data corresponding to the specified year\n",
    "  data <- read.csv(paste0(\"/anvil/projects/tdm/data/flights/subset/\", year, \".csv\"))\n",
    "  # Filter for flights with Origin at IND\n",
    "  ind_flights <- subset(data, Origin == \"IND\")\n",
    "  # Calculate the average DepDelay for each month using tapply\n",
    "  result <- tapply(ind_flights$DepDelay, ind_flights$Month, mean, na.rm = TRUE)\n",
    "  return(result)\n",
    "}\n",
    "\n",
    "# Test the function on 1990, 1998, and 2005\n",
    "monthlydepdelays(1990)\n",
    "monthlydepdelays(1998)\n",
    "monthlydepdelays(2005)\n"
   ]
  },
  {
   "cell_type": "markdown",
   "id": "b456e57c-4a12-464b-999a-ef2df5af80c1",
   "metadata": {},
   "source": [
    "Using the data.table package in R we were able to read the CSV file. We then use the fread function to read in the csv file. The tables are merged into a new table through filters that will average out the review rating for the product from the Chocolate Chip Cookie Dough from Ben and Jerries."
   ]
  },
  {
   "cell_type": "markdown",
   "id": "fc601975-35ed-4680-a4e1-0273ee3cc047",
   "metadata": {},
   "source": [
    "## Question 2"
   ]
  },
  {
   "cell_type": "code",
   "execution_count": null,
   "id": "a16336a1-1ef0-41e8-bc7c-49387db27497",
   "metadata": {},
   "outputs": [],
   "source": [
    "# This is the Starter Code\n",
    "library(data.table)\n",
    "\n",
    "par(mfrow = c(3, 2))\n",
    "myresults <- sapply(1988:1993, function(x) plot(monthlydepdelays(x)))\n"
   ]
  },
  {
   "cell_type": "markdown",
   "id": "14dc22d4-ddc3-41cc-a91a-cb0025bc0c80",
   "metadata": {},
   "source": [
    "Using the data.table package in R we were able to read the CSV file. We then use the fread function to read in the csv file. The tables of product and review data are merged through filters of only \"Half Baked\" qualities before averaging the reviews or ratings of the product."
   ]
  },
  {
   "cell_type": "markdown",
   "id": "8e586edd-ff26-4ce2-8f6b-2424b26f2929",
   "metadata": {},
   "source": [
    "## Question 3"
   ]
  },
  {
   "cell_type": "code",
   "execution_count": 7,
   "id": "bbe0f40d-9655-4653-9ca8-886bdb61cb91",
   "metadata": {},
   "outputs": [
    {
     "ename": "ERROR",
     "evalue": "Error in monthlydepdelays(x): could not find function \"monthlydepdelays\"\n",
     "output_type": "error",
     "traceback": [
      "Error in monthlydepdelays(x): could not find function \"monthlydepdelays\"\nTraceback:\n",
      "1. lapply(X = X, FUN = FUN, ...)",
      "2. FUN(X[[i]], ...)",
      "3. plot(monthlydepdelays(x))",
      "4. .handleSimpleError(function (cnd) \n . {\n .     watcher$capture_plot_and_output()\n .     cnd <- sanitize_call(cnd)\n .     watcher$push(cnd)\n .     switch(on_error, continue = invokeRestart(\"eval_continue\"), \n .         stop = invokeRestart(\"eval_stop\"), error = invokeRestart(\"eval_error\", \n .             cnd))\n . }, \"could not find function \\\"monthlydepdelays\\\"\", base::quote(monthlydepdelays(x)))"
     ]
    }
   ],
   "source": [
    "# This is the Starter Code\n",
    "library(data.table)\n",
    "# Because of the data.table library we are able to read the csv file into the myDF\n",
    "productsDF <- fread(\"/anvil/projects/tdm/data/icecream/combined/products.csv\")\n",
    "reviewsDF <- fread(\"/anvil/projects/tdm/data/icecream/combined/reviews.csv\")\n",
    "\n",
    "# Merge the data frames based on \"brand\" and \"key\"\n",
    "newmergedDF <- merge(productsDF, reviewsDF, by = c(\"brand\", \"key\"))\n",
    "\n",
    "# Subset the data for \"Half Baked®\" (with special characters encoded as \\302\\256)\n",
    "HalfBakedDF <- subset(newmergedDF, name == \"Half Baked\\302\\256\")\n",
    "\n",
    "# Plot setup\n",
    "par(mfrow = c(3, 2))\n",
    "\n",
    "# Generate plots for the years 1988 to 1993\n",
    "myresults <- sapply(1988:1993, function(x) plot(monthlydepdelays(x)))"
   ]
  },
  {
   "cell_type": "markdown",
   "id": "47c6229f-35f7-400c-8366-c442baa5cf47",
   "metadata": {},
   "source": [
    "Using the data.table package in R we were able to read the CSV file. We then use the fread function to read in the csv file. The code combines the product and review data for products with \"Chocolate\" in the title before creating the average review score for these chocolate themed items."
   ]
  },
  {
   "cell_type": "markdown",
   "id": "da22f29c-d245-4d2b-9fc1-ca14cb6087d9",
   "metadata": {},
   "source": [
    "## Question 4"
   ]
  },
  {
   "cell_type": "code",
   "execution_count": 3,
   "id": "8cffc767-d1c8-4d64-b7dc-f0d2ee8a80d1",
   "metadata": {},
   "outputs": [
    {
     "name": "stderr",
     "output_type": "stream",
     "text": [
      "Warning message in fread(\"/anvil/projects/tdm/data/flights/subset/airports.csv\"):\n",
      "\"Found and resolved improper quoting out-of-sample. First healed line 1253: <<\"DBN\",\"W. H. \\\"Bud\\\" Barron \",\"Dublin\",\"GA\",\"USA\",32.56445806,-82.98525556>>. If the fields are not quoted (e.g. field separator does not appear within any field), try quote=\"\" to avoid this warning.\"\n"
     ]
    },
    {
     "name": "stdout",
     "output_type": "stream",
     "text": [
      "[1] 5.370691\n"
     ]
    }
   ],
   "source": [
    "# This is the Starter Code\n",
    "library(data.table)\n",
    "# Because of the data.table library we are able to read the csv file into the myDF\n",
    "airportsDF <- fread(\"/anvil/projects/tdm/data/flights/subset/airports.csv\")\n",
    "flightdataDF <- fread(\"/anvil/projects/tdm/data/flights/subset/1990.csv\")\n",
    "\n",
    "# Merge the data based on \"iata\" (from airportsDF) and \"Origin\" (from flightdataDF)\n",
    "mybigDF <- merge(airportsDF, flightdataDF, by.x = \"iata\", by.y = \"Origin\")\n",
    "\n",
    "# Filter for flights with Origin in Indiana (state == \"IN\")\n",
    "indiana_flights <- subset(mybigDF, state == \"IN\")\n",
    "\n",
    "# Calculate and print the average departure delay for flights from Indiana\n",
    "mean_delay_indiana <- mean(indiana_flights$DepDelay, na.rm = TRUE)  # Assuming 'DepDelay' is the correct column for departure delays\n",
    "print(mean_delay_indiana)"
   ]
  },
  {
   "cell_type": "markdown",
   "id": "0d552245-b4d6-474a-9cc9-fa7b8e674d55",
   "metadata": {},
   "source": [
    "Using the data.table package in R we were able to read the CSV file. We then use the fread function to read in the csv file. The airport and flight data is merged into a table with only the flights originating from Indiana being filtered out. The data is then averaged based on the departure delay for these flights."
   ]
  },
  {
   "cell_type": "markdown",
   "id": "88c9cdac-3e92-498f-83fa-e089bfc44ac8",
   "metadata": {},
   "source": [
    "## Question 5"
   ]
  },
  {
   "cell_type": "code",
   "execution_count": 5,
   "id": "d370d7c9-06db-42b9-b75f-240481a5c491",
   "metadata": {},
   "outputs": [
    {
     "name": "stderr",
     "output_type": "stream",
     "text": [
      "Warning message in fread(\"/anvil/projects/tdm/data/flights/subset/airports.csv\"):\n",
      "\"Found and resolved improper quoting out-of-sample. First healed line 1253: <<\"DBN\",\"W. H. \\\"Bud\\\" Barron \",\"Dublin\",\"GA\",\"USA\",32.56445806,-82.98525556>>. If the fields are not quoted (e.g. field separator does not appear within any field), try quote=\"\" to avoid this warning.\"\n"
     ]
    },
    {
     "name": "stdout",
     "output_type": "stream",
     "text": [
      "[1] 7.227687\n"
     ]
    }
   ],
   "source": [
    "# This is the Starter Code\n",
    "library(data.table)\n",
    "# Because of the data.table library we are able to read the csv file into the myDF\n",
    "airportsDF <- fread(\"/anvil/projects/tdm/data/flights/subset/airports.csv\")\n",
    "flightdataDF <- fread(\"/anvil/projects/tdm/data/flights/subset/1990.csv\")\n",
    "\n",
    "# Merge the data based on \"iata\" (from airportsDF) and \"Origin\" (from flightdataDF)\n",
    "mybigDF <- merge(airportsDF, flightdataDF, by.x = \"iata\", by.y = \"Origin\")\n",
    "\n",
    "# Filter for flights originating from Houston, Texas\n",
    "houston_flights <- subset(mybigDF, city == \"Houston\" & state == \"TX\")\n",
    "\n",
    "# Calculate and print the average departure delay for flights from Houston, Texas\n",
    "mean_delay_houston <- mean(houston_flights$DepDelay, na.rm = TRUE)  # Assuming 'DepDelay' is the correct column for departure delays\n",
    "print(mean_delay_houston)"
   ]
  },
  {
   "cell_type": "markdown",
   "id": "9fbf00fb-2418-460f-ae94-2a32b0c28952",
   "metadata": {},
   "source": [
    "Using the data.table package in R we were able to read the CSV file. We then use the fread function to read in the csv file. The code for the airport and flight data is merged with filters for only the flights that are coming out of Houston, Texas. The data is then averaged out based on their departure delay for these flights."
   ]
  },
  {
   "cell_type": "markdown",
   "id": "f76442d6-d02e-4f26-b9d6-c3183e1d6929",
   "metadata": {},
   "source": [
    "## Pledge\n",
    "\n",
    "By submitting this work I hereby pledge that this is my own, personal work. I've acknowledged in the designated place at the top of this file all sources that I used to complete said work, including but not limited to: online resources, books, and electronic communications. I've noted all collaboration with fellow students and/or TA's. I did not copy or plagiarize another's work.\n",
    "\n",
    "> As a Boilermaker pursuing academic excellence, I pledge to be honest and true in all that I do. Accountable together – We are Purdue."
   ]
  }
 ],
 "metadata": {
  "kernelspec": {
   "display_name": "seminar-r",
   "language": "R",
   "name": "seminar-r"
  },
  "language_info": {
   "codemirror_mode": "r",
   "file_extension": ".r",
   "mimetype": "text/x-r-source",
   "name": "R",
   "pygments_lexer": "r",
   "version": "4.4.1"
  }
 },
 "nbformat": 4,
 "nbformat_minor": 5
}
