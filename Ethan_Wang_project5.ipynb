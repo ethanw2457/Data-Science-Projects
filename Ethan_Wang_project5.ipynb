{
 "cells": [
  {
   "cell_type": "markdown",
   "id": "be02a957-7133-4d02-818e-fedeb3cecb05",
   "metadata": {},
   "source": [
    "# Project 5 -- [Ethan] [Wang]"
   ]
  },
  {
   "cell_type": "markdown",
   "id": "a1228853-dd19-4ab2-89e0-0394d7d72de3",
   "metadata": {},
   "source": [
    "**TA Help:** NA\n",
    "\n",
    "- NA\n",
    "    \n",
    "**Collaboration:** NA\n",
    "    \n",
    "- NA"
   ]
  },
  {
   "cell_type": "markdown",
   "id": "6180e742-8e39-4698-98ff-5b00c8cf8ea0",
   "metadata": {},
   "source": [
    "## Question 1"
   ]
  },
  {
   "cell_type": "code",
   "execution_count": 2,
   "id": "49445606-d363-41b4-b479-e319a9a84c01",
   "metadata": {},
   "outputs": [
    {
     "data": {
      "text/html": [
       "<table class=\"dataframe\">\n",
       "<caption>A data.table: 6 x 38</caption>\n",
       "<thead>\n",
       "\t<tr><th scope=col>Id</th><th scope=col>ResidentStatus</th><th scope=col>Education1989Revision</th><th scope=col>Education2003Revision</th><th scope=col>EducationReportingFlag</th><th scope=col>MonthOfDeath</th><th scope=col>Sex</th><th scope=col>AgeType</th><th scope=col>Age</th><th scope=col>AgeSubstitutionFlag</th><th scope=col>...</th><th scope=col>CauseRecode39</th><th scope=col>NumberOfEntityAxisConditions</th><th scope=col>NumberOfRecordAxisConditions</th><th scope=col>Race</th><th scope=col>BridgedRaceFlag</th><th scope=col>RaceImputationFlag</th><th scope=col>RaceRecode3</th><th scope=col>RaceRecode5</th><th scope=col>HispanicOrigin</th><th scope=col>HispanicOriginRaceRecode</th></tr>\n",
       "\t<tr><th scope=col>&lt;int&gt;</th><th scope=col>&lt;int&gt;</th><th scope=col>&lt;int&gt;</th><th scope=col>&lt;int&gt;</th><th scope=col>&lt;int&gt;</th><th scope=col>&lt;int&gt;</th><th scope=col>&lt;chr&gt;</th><th scope=col>&lt;int&gt;</th><th scope=col>&lt;int&gt;</th><th scope=col>&lt;int&gt;</th><th scope=col>...</th><th scope=col>&lt;int&gt;</th><th scope=col>&lt;int&gt;</th><th scope=col>&lt;int&gt;</th><th scope=col>&lt;int&gt;</th><th scope=col>&lt;int&gt;</th><th scope=col>&lt;int&gt;</th><th scope=col>&lt;int&gt;</th><th scope=col>&lt;int&gt;</th><th scope=col>&lt;int&gt;</th><th scope=col>&lt;int&gt;</th></tr>\n",
       "</thead>\n",
       "<tbody>\n",
       "\t<tr><td> 3</td><td>1</td><td>0</td><td>7</td><td>1</td><td>1</td><td>F</td><td>1</td><td>75</td><td>0</td><td>...</td><td>28</td><td>2</td><td>2</td><td>1</td><td>0</td><td>0</td><td>1</td><td>1</td><td>100</td><td>6</td></tr>\n",
       "\t<tr><td> 6</td><td>1</td><td>0</td><td>5</td><td>1</td><td>1</td><td>F</td><td>1</td><td>93</td><td>0</td><td>...</td><td>37</td><td>5</td><td>5</td><td>1</td><td>0</td><td>0</td><td>1</td><td>1</td><td>100</td><td>6</td></tr>\n",
       "\t<tr><td> 9</td><td>1</td><td>0</td><td>3</td><td>1</td><td>1</td><td>F</td><td>1</td><td>86</td><td>0</td><td>...</td><td>37</td><td>1</td><td>1</td><td>1</td><td>0</td><td>0</td><td>1</td><td>1</td><td>100</td><td>6</td></tr>\n",
       "\t<tr><td>11</td><td>1</td><td>0</td><td>3</td><td>1</td><td>1</td><td>F</td><td>1</td><td>79</td><td>0</td><td>...</td><td>22</td><td>2</td><td>2</td><td>1</td><td>0</td><td>0</td><td>1</td><td>1</td><td>100</td><td>6</td></tr>\n",
       "\t<tr><td>13</td><td>1</td><td>0</td><td>4</td><td>1</td><td>1</td><td>F</td><td>1</td><td>85</td><td>0</td><td>...</td><td>22</td><td>5</td><td>5</td><td>1</td><td>0</td><td>0</td><td>1</td><td>1</td><td>100</td><td>6</td></tr>\n",
       "\t<tr><td>14</td><td>1</td><td>0</td><td>3</td><td>1</td><td>1</td><td>F</td><td>1</td><td>84</td><td>0</td><td>...</td><td> 8</td><td>2</td><td>2</td><td>1</td><td>0</td><td>0</td><td>1</td><td>1</td><td>100</td><td>6</td></tr>\n",
       "</tbody>\n",
       "</table>\n"
      ],
      "text/latex": [
       "A data.table: 6 x 38\n",
       "\\begin{tabular}{lllllllllllllllllllll}\n",
       " Id & ResidentStatus & Education1989Revision & Education2003Revision & EducationReportingFlag & MonthOfDeath & Sex & AgeType & Age & AgeSubstitutionFlag & ... & CauseRecode39 & NumberOfEntityAxisConditions & NumberOfRecordAxisConditions & Race & BridgedRaceFlag & RaceImputationFlag & RaceRecode3 & RaceRecode5 & HispanicOrigin & HispanicOriginRaceRecode\\\\\n",
       " <int> & <int> & <int> & <int> & <int> & <int> & <chr> & <int> & <int> & <int> & ... & <int> & <int> & <int> & <int> & <int> & <int> & <int> & <int> & <int> & <int>\\\\\n",
       "\\hline\n",
       "\t  3 & 1 & 0 & 7 & 1 & 1 & F & 1 & 75 & 0 & ... & 28 & 2 & 2 & 1 & 0 & 0 & 1 & 1 & 100 & 6\\\\\n",
       "\t  6 & 1 & 0 & 5 & 1 & 1 & F & 1 & 93 & 0 & ... & 37 & 5 & 5 & 1 & 0 & 0 & 1 & 1 & 100 & 6\\\\\n",
       "\t  9 & 1 & 0 & 3 & 1 & 1 & F & 1 & 86 & 0 & ... & 37 & 1 & 1 & 1 & 0 & 0 & 1 & 1 & 100 & 6\\\\\n",
       "\t 11 & 1 & 0 & 3 & 1 & 1 & F & 1 & 79 & 0 & ... & 22 & 2 & 2 & 1 & 0 & 0 & 1 & 1 & 100 & 6\\\\\n",
       "\t 13 & 1 & 0 & 4 & 1 & 1 & F & 1 & 85 & 0 & ... & 22 & 5 & 5 & 1 & 0 & 0 & 1 & 1 & 100 & 6\\\\\n",
       "\t 14 & 1 & 0 & 3 & 1 & 1 & F & 1 & 84 & 0 & ... &  8 & 2 & 2 & 1 & 0 & 0 & 1 & 1 & 100 & 6\\\\\n",
       "\\end{tabular}\n"
      ],
      "text/markdown": [
       "\n",
       "A data.table: 6 x 38\n",
       "\n",
       "| Id &lt;int&gt; | ResidentStatus &lt;int&gt; | Education1989Revision &lt;int&gt; | Education2003Revision &lt;int&gt; | EducationReportingFlag &lt;int&gt; | MonthOfDeath &lt;int&gt; | Sex &lt;chr&gt; | AgeType &lt;int&gt; | Age &lt;int&gt; | AgeSubstitutionFlag &lt;int&gt; | ... ... | CauseRecode39 &lt;int&gt; | NumberOfEntityAxisConditions &lt;int&gt; | NumberOfRecordAxisConditions &lt;int&gt; | Race &lt;int&gt; | BridgedRaceFlag &lt;int&gt; | RaceImputationFlag &lt;int&gt; | RaceRecode3 &lt;int&gt; | RaceRecode5 &lt;int&gt; | HispanicOrigin &lt;int&gt; | HispanicOriginRaceRecode &lt;int&gt; |\n",
       "|---|---|---|---|---|---|---|---|---|---|---|---|---|---|---|---|---|---|---|---|---|\n",
       "|  3 | 1 | 0 | 7 | 1 | 1 | F | 1 | 75 | 0 | ... | 28 | 2 | 2 | 1 | 0 | 0 | 1 | 1 | 100 | 6 |\n",
       "|  6 | 1 | 0 | 5 | 1 | 1 | F | 1 | 93 | 0 | ... | 37 | 5 | 5 | 1 | 0 | 0 | 1 | 1 | 100 | 6 |\n",
       "|  9 | 1 | 0 | 3 | 1 | 1 | F | 1 | 86 | 0 | ... | 37 | 1 | 1 | 1 | 0 | 0 | 1 | 1 | 100 | 6 |\n",
       "| 11 | 1 | 0 | 3 | 1 | 1 | F | 1 | 79 | 0 | ... | 22 | 2 | 2 | 1 | 0 | 0 | 1 | 1 | 100 | 6 |\n",
       "| 13 | 1 | 0 | 4 | 1 | 1 | F | 1 | 85 | 0 | ... | 22 | 5 | 5 | 1 | 0 | 0 | 1 | 1 | 100 | 6 |\n",
       "| 14 | 1 | 0 | 3 | 1 | 1 | F | 1 | 84 | 0 | ... |  8 | 2 | 2 | 1 | 0 | 0 | 1 | 1 | 100 | 6 |\n",
       "\n"
      ],
      "text/plain": [
       "  Id ResidentStatus Education1989Revision Education2003Revision\n",
       "1  3 1              0                     7                    \n",
       "2  6 1              0                     5                    \n",
       "3  9 1              0                     3                    \n",
       "4 11 1              0                     3                    \n",
       "5 13 1              0                     4                    \n",
       "6 14 1              0                     3                    \n",
       "  EducationReportingFlag MonthOfDeath Sex AgeType Age AgeSubstitutionFlag ...\n",
       "1 1                      1            F   1       75  0                   ...\n",
       "2 1                      1            F   1       93  0                   ...\n",
       "3 1                      1            F   1       86  0                   ...\n",
       "4 1                      1            F   1       79  0                   ...\n",
       "5 1                      1            F   1       85  0                   ...\n",
       "6 1                      1            F   1       84  0                   ...\n",
       "  CauseRecode39 NumberOfEntityAxisConditions NumberOfRecordAxisConditions Race\n",
       "1 28            2                            2                            1   \n",
       "2 37            5                            5                            1   \n",
       "3 37            1                            1                            1   \n",
       "4 22            2                            2                            1   \n",
       "5 22            5                            5                            1   \n",
       "6  8            2                            2                            1   \n",
       "  BridgedRaceFlag RaceImputationFlag RaceRecode3 RaceRecode5 HispanicOrigin\n",
       "1 0               0                  1           1           100           \n",
       "2 0               0                  1           1           100           \n",
       "3 0               0                  1           1           100           \n",
       "4 0               0                  1           1           100           \n",
       "5 0               0                  1           1           100           \n",
       "6 0               0                  1           1           100           \n",
       "  HispanicOriginRaceRecode\n",
       "1 6                       \n",
       "2 6                       \n",
       "3 6                       \n",
       "4 6                       \n",
       "5 6                       \n",
       "6 6                       "
      ]
     },
     "metadata": {},
     "output_type": "display_data"
    }
   ],
   "source": [
    "# This is the Starter Code\n",
    "library(data.table)\n",
    "# Because of the data.table library we are able to read the csv file into the myDF\n",
    "myDF <- fread(\"/anvil/projects/tdm/data/death_records/DeathRecords.csv\")\n",
    "# Creates a new subset that filters out only the female values\n",
    "femaleDF <- subset(myDF, Sex == 'F')\n",
    "# Displays only the first few rows of the new subset\n",
    "head(femaleDF)"
   ]
  },
  {
   "cell_type": "code",
   "execution_count": 2,
   "id": "a0c9cf2d-f052-467f-a117-e8ade1c433cb",
   "metadata": {},
   "outputs": [
    {
     "data": {
      "image/png": "[encoded data removed]",
      "text/plain": [
       "plot without title"
      ]
     },
     "metadata": {
      "image/png": {
       "height": 420,
       "width": 420
      }
     },
     "output_type": "display_data"
    }
   ],
   "source": [
    "# This is the Starter Code\n",
    "library(data.table)\n",
    "# Because of the data.table library we are able to read the csv file into the myDF\n",
    "myDF <- fread(\"/anvil/projects/tdm/data/death_records/DeathRecords.csv\")\n",
    "# Creates a new subset that filters out only the female values\n",
    "femaleDF <- subset(myDF, Sex == 'F')\n",
    "# Creates a new table that records the frequency of Age values for females and plots a bar chart representing the distribution of ages\n",
    "ageTable <- table(femaleDF$Age)\n",
    "barplot(ageTable, xlab = \"Age\", ylab = \"Count\")"
   ]
  },
  {
   "cell_type": "code",
   "execution_count": 3,
   "id": "a1dc30f5-46c8-4d57-8464-744bb8bd69f3",
   "metadata": {},
   "outputs": [
    {
     "data": {
      "image/png": "[encoded data removed]",
      "text/plain": [
       "plot without title"
      ]
     },
     "metadata": {
      "image/png": {
       "height": 420,
       "width": 420
      }
     },
     "output_type": "display_data"
    }
   ],
   "source": [
    "# This is the Starter Code\n",
    "library(data.table)\n",
    "# Because of the data.table library we are able to read the csv file into the myDF\n",
    "myDF <- fread(\"/anvil/projects/tdm/data/death_records/DeathRecords.csv\")\n",
    "# Creates a new subset that filters out only the female values\n",
    "femaleDF <- subset(myDF, Sex == 'F')\n",
    "# Creates a new table without the rows with Age 999\n",
    "revisedFemaleDF <- subset(femaleDF, Age != 999)\n",
    "revisedAgeTable <- table(revisedFemaleDF$Age)\n",
    "barplot(revisedAgeTable, xlab = \"Age\", ylab = \"Count\")"
   ]
  },
  {
   "cell_type": "markdown",
   "id": "b456e57c-4a12-464b-999a-ef2df5af80c1",
   "metadata": {},
   "source": [
    "Using the data.table package in R we were able to read the CSV file. We then use the fread function to read in the csv file. With the subset() function we are able to set a new dataset with values that are female. With the barplot() function and its parameters we are able to plot the data in a bar graph with age as the x and count as the y. In the third plot of a bar chart there is a revised version with the data excluding the rows with Age 999 which helps demonstrate the data better with less outliers."
   ]
  },
  {
   "cell_type": "markdown",
   "id": "fc601975-35ed-4680-a4e1-0273ee3cc047",
   "metadata": {},
   "source": [
    "## Question 2"
   ]
  },
  {
   "cell_type": "code",
   "execution_count": 4,
   "id": "a16336a1-1ef0-41e8-bc7c-49387db27497",
   "metadata": {},
   "outputs": [
    {
     "data": {
      "text/plain": [
       "\n",
       "CENTRAL    EAST   SOUTH    WEST \n",
       "   2750    3269    2675    3952 "
      ]
     },
     "metadata": {},
     "output_type": "display_data"
    }
   ],
   "source": [
    "# This is the Starter Code\n",
    "library(data.table)\n",
    "# Because of the data.table library we are able to read the csv file into the myDF\n",
    "myDF <- fread(\"/anvil/projects/tdm/data/8451/The_Complete_Journey_2_Master/5000_transactions.csv\")\n",
    "# Creates a new subset that only allows values that are have a SPEND value less than zero before organizing by frequency\n",
    "refundsDF <- subset(myDF, SPEND < 0)\n",
    "finalTable <- table(refundsDF$STORE_R)\n",
    "finalTable"
   ]
  },
  {
   "cell_type": "markdown",
   "id": "14dc22d4-ddc3-41cc-a91a-cb0025bc0c80",
   "metadata": {},
   "source": [
    "Using the data.table package in R we were able to read the CSV file. We then use the fread function to read in the csv file. With the subset() function we are able to create a new subset of transactions with only values of SPEND that are less than zero. We are also able to generate a frequency tbale that refunds by order of each store."
   ]
  },
  {
   "cell_type": "markdown",
   "id": "8e586edd-ff26-4ce2-8f6b-2424b26f2929",
   "metadata": {},
   "source": [
    "## Question 3"
   ]
  },
  {
   "cell_type": "code",
   "execution_count": 1,
   "id": "bbe0f40d-9655-4653-9ca8-886bdb61cb91",
   "metadata": {},
   "outputs": [
    {
     "data": {
      "text/html": [
       "<style>\n",
       ".list-inline {list-style: none; margin:0; padding: 0}\n",
       ".list-inline>li {display: inline-block}\n",
       ".list-inline>li:not(:last-child)::after {content: \"\\00b7\"; padding: 0 .5ex}\n",
       "</style>\n",
       "<ol class=list-inline><li>12436</li><li>10</li></ol>\n"
      ],
      "text/latex": [
       "\\begin{enumerate*}\n",
       "\\item 12436\n",
       "\\item 10\n",
       "\\end{enumerate*}\n"
      ],
      "text/markdown": [
       "1. 12436\n",
       "2. 10\n",
       "\n",
       "\n"
      ],
      "text/plain": [
       "[1] 12436    10"
      ]
     },
     "metadata": {},
     "output_type": "display_data"
    }
   ],
   "source": [
    "# This is the Starter Code\n",
    "library(data.table)\n",
    "# Because of the data.table library we are able to read the csv file into the myDF\n",
    "myDF <- fread(\"/anvil/projects/tdm/data/beer/reviews_sample.csv\")\n",
    "# Creates a new subset that comprises of reviews of beers where the score is equal to five overall but is not equal to five before summing up the number of rows in that subset\n",
    "subsetBeerDF <- subset(myDF, score != 5 & overall == 5)\n",
    "dim(subsetBeerDF)"
   ]
  },
  {
   "cell_type": "markdown",
   "id": "47c6229f-35f7-400c-8366-c442baa5cf47",
   "metadata": {},
   "source": [
    "Using the data.table package in R we were able to read the CSV file. We then use the fread function to read in the csv file. With the subset() function we are able to create a new subset with values that are not equal to five but are equal to five overall. Through the dim() function we are able to find the number of rows in the new subset through the dimensions."
   ]
  },
  {
   "cell_type": "markdown",
   "id": "da22f29c-d245-4d2b-9fc1-ca14cb6087d9",
   "metadata": {},
   "source": [
    "## Question 4"
   ]
  },
  {
   "cell_type": "code",
   "execution_count": 3,
   "id": "8cffc767-d1c8-4d64-b7dc-f0d2ee8a80d1",
   "metadata": {},
   "outputs": [
    {
     "data": {
      "text/plain": [
       "\n",
       "SCHECK, RICHARD HERBERT \n",
       "                      6 "
      ]
     },
     "metadata": {},
     "output_type": "display_data"
    }
   ],
   "source": [
    "# This is the Starter Code\n",
    "library(data.table)\n",
    "# Because of the data.table library we are able to read the csv file into the myDF\n",
    "myDF <- fread(\"/anvil/projects/tdm/data/election/itcont1980.txt\", quote=\"\")\n",
    "# Create a subset of values that are missing the TRANSACTION_DT value before generating a table based on the frequency of the NAME column \n",
    "names(myDF) <- c(\"CMTE_ID\", \"AMNDT_IND\", \"RPT_TP\", \"TRANSACTION_PGI\", \"IMAGE_NUM\", \"TRANSACTION_TP\", \"ENTITY_TP\", \"NAME\", \"CITY\", \"STATE\", \"ZIP_CODE\", \"EMPLOYER\", \"OCCUPATION\", \"TRANSACTION_DT\", \"TRANSACTION_AMT\", \"OTHER_ID\", \"TRAN_ID\", \"FILE_NUM\", \"MEMO_CD\", \"MEMO_TEXT\", \"SUB_ID\")\n",
    "missingDates <- subset(myDF, is.na(TRANSACTION_DT) & (NAME != \"CURCIO, BARBARA G\") & (NAME != \"WOLFF, GARY W.\"))\n",
    "table(missingDates$NAME)"
   ]
  },
  {
   "cell_type": "markdown",
   "id": "0d552245-b4d6-474a-9cc9-fa7b8e674d55",
   "metadata": {},
   "source": [
    "Using the data.table package in R we were able to read the CSV file. We then use the fread function to read in the csv file. With the names() function we are able to declare new names to the column set to our liking. The subset() function allows us to use the is.na() function with a parameter that will remove the values that are missing that parameter. Combining those to functions we are able to create a new subset with value that do not have that parameter. "
   ]
  },
  {
   "cell_type": "markdown",
   "id": "88c9cdac-3e92-498f-83fa-e089bfc44ac8",
   "metadata": {},
   "source": [
    "## Question 5"
   ]
  },
  {
   "cell_type": "code",
   "execution_count": 1,
   "id": "d370d7c9-06db-42b9-b75f-240481a5c491",
   "metadata": {},
   "outputs": [
    {
     "data": {
      "text/html": [
       "<style>\n",
       ".list-inline {list-style: none; margin:0; padding: 0}\n",
       ".list-inline>li {display: inline-block}\n",
       ".list-inline>li:not(:last-child)::after {content: \"\\00b7\"; padding: 0 .5ex}\n",
       "</style>\n",
       "<ol class=list-inline><li>52458</li><li>29</li></ol>\n"
      ],
      "text/latex": [
       "\\begin{enumerate*}\n",
       "\\item 52458\n",
       "\\item 29\n",
       "\\end{enumerate*}\n"
      ],
      "text/markdown": [
       "1. 52458\n",
       "2. 29\n",
       "\n",
       "\n"
      ],
      "text/plain": [
       "[1] 52458    29"
      ]
     },
     "metadata": {},
     "output_type": "display_data"
    },
    {
     "data": {
      "text/html": [
       "<style>\n",
       ".list-inline {list-style: none; margin:0; padding: 0}\n",
       ".list-inline>li {display: inline-block}\n",
       ".list-inline>li:not(:last-child)::after {content: \"\\00b7\"; padding: 0 .5ex}\n",
       "</style>\n",
       "<ol class=list-inline><li>15954</li><li>29</li></ol>\n"
      ],
      "text/latex": [
       "\\begin{enumerate*}\n",
       "\\item 15954\n",
       "\\item 29\n",
       "\\end{enumerate*}\n"
      ],
      "text/markdown": [
       "1. 15954\n",
       "2. 29\n",
       "\n",
       "\n"
      ],
      "text/plain": [
       "[1] 15954    29"
      ]
     },
     "metadata": {},
     "output_type": "display_data"
    },
    {
     "data": {
      "text/html": [
       "<style>\n",
       ".list-inline {list-style: none; margin:0; padding: 0}\n",
       ".list-inline>li {display: inline-block}\n",
       ".list-inline>li:not(:last-child)::after {content: \"\\00b7\"; padding: 0 .5ex}\n",
       "</style>\n",
       "<ol class=list-inline><li>0</li><li>29</li></ol>\n"
      ],
      "text/latex": [
       "\\begin{enumerate*}\n",
       "\\item 0\n",
       "\\item 29\n",
       "\\end{enumerate*}\n"
      ],
      "text/markdown": [
       "1. 0\n",
       "2. 29\n",
       "\n",
       "\n"
      ],
      "text/plain": [
       "[1]  0 29"
      ]
     },
     "metadata": {},
     "output_type": "display_data"
    }
   ],
   "source": [
    "# This is the Starter Code\n",
    "library(data.table)\n",
    "# Because of the data.table library we are able to read the csv file into the myDF\n",
    "myDF <- fread(\"/anvil/projects/tdm/data/flights/subset/1990.csv\")\n",
    "# Gathers the dimension of delays that are inclusive of arrival and departure delays\n",
    "missingBoth <- subset(myDF, is.na(DepDelay) & is.na(ArrDelay))\n",
    "dim(missingBoth)\n",
    "# Gathers the dimension of delays that are arrival delays\n",
    "missingArrivalOnly <- subset(myDF, !is.na(DepDelay) & is.na(ArrDelay))\n",
    "dim(missingArrivalOnly)\n",
    "# Gathers the dimension of delays that are departure delays\n",
    "missingDepartureOnly <- subset(myDF, is.na(DepDelay) & !is.na(ArrDelay))\n",
    "dim(missingDepartureOnly)"
   ]
  },
  {
   "cell_type": "markdown",
   "id": "9fbf00fb-2418-460f-ae94-2a32b0c28952",
   "metadata": {},
   "source": [
    "Using the data.table package in R we were able to read the CSV file. We then use the fread function to read in the csv file. We can then set to a new subset with the dimensions of the subset that records the number of delays that are the result of either arrivals, departures, or both through criteria that will allow both or only allow one criteria that needs to be achieved."
   ]
  },
  {
   "cell_type": "markdown",
   "id": "f76442d6-d02e-4f26-b9d6-c3183e1d6929",
   "metadata": {},
   "source": [
    "## Pledge\n",
    "\n",
    "By submitting this work I hereby pledge that this is my own, personal work. I've acknowledged in the designated place at the top of this file all sources that I used to complete said work, including but not limited to: online resources, books, and electronic communications. I've noted all collaboration with fellow students and/or TA's. I did not copy or plagiarize another's work.\n",
    "\n",
    "> As a Boilermaker pursuing academic excellence, I pledge to be honest and true in all that I do. Accountable together – We are Purdue."
   ]
  }
 ],
 "metadata": {
  "kernelspec": {
   "display_name": "seminar-r",
   "language": "R",
   "name": "seminar-r"
  },
  "language_info": {
   "codemirror_mode": "r",
   "file_extension": ".r",
   "mimetype": "text/x-r-source",
   "name": "R",
   "pygments_lexer": "r",
   "version": "4.3.1"
  }
 },
 "nbformat": 4,
 "nbformat_minor": 5
}
